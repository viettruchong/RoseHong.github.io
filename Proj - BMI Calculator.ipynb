{
 "cells": [
  {
   "cell_type": "markdown",
   "id": "3e1697a6",
   "metadata": {},
   "source": [
    "# **BMI Calculator**"
   ]
  },
  {
   "cell_type": "markdown",
   "id": "e1a8346b",
   "metadata": {},
   "source": [
    "Calculate your BMI to determine whether you are at risk of diabetes, high blood pressure or in need of better nutrition plans. BMI applies to most adults aged from 18-65. It can be calculated by kg/m2 or lbs/in2."
   ]
  },
  {
   "cell_type": "markdown",
   "id": "aee3ca5a",
   "metadata": {},
   "source": [
    "BMI = (weight in kg x 703) / (height in m x height in inches)"
   ]
  },
  {
   "cell_type": "raw",
   "id": "3c36de0d",
   "metadata": {},
   "source": [
    "**Index for BMI's results**\n",
    "\n",
    "Under 18.5\t Underweight\t Minimal\n",
    "18.5 - 24.9\t Normal Weight\t Minimal\n",
    "25 - 29.9\t Overweight\t     Increased\n",
    "30 - 34.9\t Obese\t         High\n",
    "35 - 39.9\t Severely Obese\t Very High\n",
    "40 and over\t Morbidly Obese  Extremely High"
   ]
  },
  {
   "cell_type": "markdown",
   "id": "3b535d8b",
   "metadata": {},
   "source": [
    "## **Code**"
   ]
  },
  {
   "cell_type": "code",
   "execution_count": null,
   "id": "0ff1e9a8",
   "metadata": {},
   "outputs": [],
   "source": [
    "import gc\n",
    "gc.collect()\n"
   ]
  },
  {
   "cell_type": "code",
   "execution_count": null,
   "id": "67d58d78",
   "metadata": {},
   "outputs": [],
   "source": [
    "name = input(\"Your name: \")\n",
    "\n",
    "weight = float(input(\"Your weight in kilograms (kg): \"))\n",
    "height = float(input(\"Your height in meters (m)): \"))\n",
    "BMI = (weight) / (height * height)\n",
    "print('Your Body Mass Index is : ', BMI, '.')\n"
   ]
  },
  {
   "cell_type": "code",
   "execution_count": 3,
   "id": "24ff2e25",
   "metadata": {},
   "outputs": [
    {
     "name": "stdout",
     "output_type": "stream",
     "text": [
      "Your Body Mass Index is:  24.242147552958365 .\n",
      "Rose, you are in normal weight. Don't be too worry. Keep eating in moderation and moving daily.\n"
     ]
    }
   ],
   "source": [
    "if BMI > 0:\n",
    "    if BMI < 18.5:\n",
    "        print('Your Body Mass Index is: ' + BMI + '.')\n",
    "        print(name, ', you are underweight. You need to eat more nutritious meals.')\n",
    "    elif (18.5 <= BMI <= 24.9):\n",
    "        print('Your Body Mass Index is: ', BMI, '.') \n",
    "        print(name + ', you are in normal weight. Don\\'t be too worry. Keep eating in moderation and moving daily.')\n",
    "    elif (25 <= BMI <= 29.9):\n",
    "        print('Your Body Mass Index is: ', BMI, '.')\n",
    "        print(name + ', you are overweight. You need eat less junk food and exercise more.')\n",
    "    elif (30 <= BMI <= 34.9):\n",
    "        print('Your Body Mass Index is: ', BMI, '.')\n",
    "        print(name +', you are obese. You need to visit a doctor.')\n",
    "    elif (35 <= BMI <= 39.9):\n",
    "        print('Your Body Mass Index is: ', BMI, '.')\n",
    "        print(name + ', you are severely obese. You might be at risk of getting diabetes or high blood pressure.')\n",
    "    else:\n",
    "        print('Your Body Mass Index is: ', BMI,'.')\n",
    "        print(name +', you are morbidly obese. You need to act now on your health!')\n",
    "else:\n",
    "    print(\"Invalid input\")\n",
    "    "
   ]
  }
 ],
 "metadata": {
  "kernelspec": {
   "display_name": "Python 3 (ipykernel)",
   "language": "python",
   "name": "python3"
  },
  "language_info": {
   "codemirror_mode": {
    "name": "ipython",
    "version": 3
   },
   "file_extension": ".py",
   "mimetype": "text/x-python",
   "name": "python",
   "nbconvert_exporter": "python",
   "pygments_lexer": "ipython3",
   "version": "3.9.12"
  }
 },
 "nbformat": 4,
 "nbformat_minor": 5
}
